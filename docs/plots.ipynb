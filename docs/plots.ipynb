{
 "cells": [
  {
   "cell_type": "markdown",
   "id": "6a2385e8-96d9-4683-ade2-3cf50cb3ac6a",
   "metadata": {},
   "source": [
    "# Julia Plots.jl"
   ]
  },
  {
   "cell_type": "code",
   "execution_count": null,
   "id": "345e0bd6-cfe1-42fc-8361-2fb977d8d0b3",
   "metadata": {
    "execution": {
     "iopub.execute_input": "2022-02-22T13:51:51.177000Z",
     "iopub.status.busy": "2022-02-22T13:51:50.611000Z",
     "iopub.status.idle": "2022-02-22T13:52:06.112000Z",
     "shell.execute_reply": "2022-02-22T13:52:06.078000Z"
    }
   },
   "outputs": [],
   "source": [
    "using Plots\n",
    "pyplot()"
   ]
  },
  {
   "cell_type": "code",
   "execution_count": null,
   "id": "5b7a2a07-c982-4afd-b14f-f7bc0d542279",
   "metadata": {
    "execution": {
     "iopub.execute_input": "2022-02-22T13:52:11.653000Z",
     "iopub.status.busy": "2022-02-22T13:52:06.115000Z",
     "iopub.status.idle": "2022-02-22T13:52:33.074000Z",
     "shell.execute_reply": "2022-02-22T13:52:33.074000Z"
    }
   },
   "outputs": [],
   "source": [
    "plot(Plots.fakedata(50, 5), w = 3)"
   ]
  }
 ],
 "metadata": {
  "kernelspec": {
   "display_name": "Julia 1.7.1",
   "language": "julia",
   "name": "julia-1.7"
  },
  "language_info": {
   "file_extension": ".jl",
   "mimetype": "application/julia",
   "name": "julia",
   "version": "1.7.2"
  }
 },
 "nbformat": 4,
 "nbformat_minor": 5
}
